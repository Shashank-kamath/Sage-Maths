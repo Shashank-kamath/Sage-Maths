{
 "cells": [
  {
   "cell_type": "code",
   "execution_count": 21,
   "metadata": {},
   "outputs": [],
   "source": [
    "def RK4(f,x0,y0,h,x1):\n",
    "    n = int(1.0*(x1-x0)/h)\n",
    "    sol = [[x0,y0]]\n",
    "    x,y=x0,y0\n",
    "    for i in range(1,n+1):\n",
    "        k1=f(x,y)\n",
    "        k2=f(x+0.5*h,y+h*0.5*k1)\n",
    "        k3=f(x+0.5*h,y+h*0.5*k2)\n",
    "        k4=f(x+h,y+h*k3)\n",
    "        x=x0+i*h\n",
    "        y=y+(1/6.0)*h*(k1+2*k2+2*k3+k4)\n",
    "        sol.append([x,y])\n",
    "    return sol"
   ]
  },
  {
   "cell_type": "code",
   "execution_count": 22,
   "metadata": {},
   "outputs": [],
   "source": [
    "var('x,y')\n",
    "f(x,y) = sin(x*y)-(x*x*y)\n",
    "x0 = 1\n",
    "y0 = 180\n",
    "h = 0.2\n",
    "x1 = 2\n",
    "T = RK4(f,x0,y0,h,x1)"
   ]
  },
  {
   "cell_type": "code",
   "execution_count": 23,
   "metadata": {},
   "outputs": [
    {
     "data": {
      "text/html": [
       "<div class=\"notruncate\">\n",
       "<table  class=\"table_form\">\n",
       "<tbody>\n",
       "<tr>\n",
       "<th><script type=\"math/tex\">x_i</script></th>\n",
       "<th><script type=\"math/tex\">y_i</script></th>\n",
       "</tr>\n",
       "<tr class =\"row-a\">\n",
       "<td><script type=\"math/tex\">1</script></td>\n",
       "<td><script type=\"math/tex\">1</script></td>\n",
       "</tr>\n",
       "<tr class =\"row-b\">\n",
       "<td><script type=\"math/tex\">1.1</script></td>\n",
       "<td><script type=\"math/tex\">0.977011910675429</script></td>\n",
       "</tr>\n",
       "<tr class =\"row-a\">\n",
       "<td><script type=\"math/tex\">1.2</script></td>\n",
       "<td><script type=\"math/tex\">0.9393679482818356</script></td>\n",
       "</tr>\n",
       "<tr class =\"row-b\">\n",
       "<td><script type=\"math/tex\">1.3</script></td>\n",
       "<td><script type=\"math/tex\">0.8874756459844718</script></td>\n",
       "</tr>\n",
       "<tr class =\"row-a\">\n",
       "<td><script type=\"math/tex\">1.4</script></td>\n",
       "<td><script type=\"math/tex\">0.8230009915961489</script></td>\n",
       "</tr>\n",
       "<tr class =\"row-b\">\n",
       "<td><script type=\"math/tex\">1.5</script></td>\n",
       "<td><script type=\"math/tex\">0.7486053238027652</script></td>\n",
       "</tr>\n",
       "<tr class =\"row-a\">\n",
       "<td><script type=\"math/tex\">1.6</script></td>\n",
       "<td><script type=\"math/tex\">0.6675370249444095</script></td>\n",
       "</tr>\n",
       "<tr class =\"row-b\">\n",
       "<td><script type=\"math/tex\">1.7</script></td>\n",
       "<td><script type=\"math/tex\">0.583203545938911</script></td>\n",
       "</tr>\n",
       "<tr class =\"row-a\">\n",
       "<td><script type=\"math/tex\">1.8</script></td>\n",
       "<td><script type=\"math/tex\">0.4988268673569609</script></td>\n",
       "</tr>\n",
       "<tr class =\"row-b\">\n",
       "<td><script type=\"math/tex\">1.9</script></td>\n",
       "<td><script type=\"math/tex\">0.4172285940339092</script></td>\n",
       "</tr>\n",
       "<tr class =\"row-a\">\n",
       "<td><script type=\"math/tex\">2.0</script></td>\n",
       "<td><script type=\"math/tex\">0.340733564139632</script></td>\n",
       "</tr>\n",
       "</tbody>\n",
       "</table>\n",
       "</div>"
      ],
      "text/plain": [
       "  $x_i$   $y_i$\n",
       "+-------+--------------------+\n",
       "  1       1\n",
       "  1.1     0.977011910675429\n",
       "  1.2     0.9393679482818356\n",
       "  1.3     0.8874756459844718\n",
       "  1.4     0.8230009915961489\n",
       "  1.5     0.7486053238027652\n",
       "  1.6     0.6675370249444095\n",
       "  1.7     0.583203545938911\n",
       "  1.8     0.4988268673569609\n",
       "  1.9     0.4172285940339092\n",
       "  2.0     0.340733564139632"
      ]
     },
     "execution_count": 23,
     "metadata": {},
     "output_type": "execute_result"
    }
   ],
   "source": [
    "table(T,header_row=['$x_i$','$y_i$'])\n",
    "T1 = desolve_rk4(f(x,y),y,ics=[1,1],end_points=2,step=0.1)\n",
    "table(T1,header_row=['$x_i$','$y_i$'])\n"
   ]
  },
  {
   "cell_type": "code",
   "execution_count": 14,
   "metadata": {},
   "outputs": [
    {
     "data": {
      "text/html": [
       "<html><script type=\"math/tex; mode=display\">\\newcommand{\\Bold}[1]{\\mathbf{#1}}x e^{\\left(-\\frac{1}{2}\\right)} = e^{\\left(-\\frac{y\\left(x\\right)}{2 \\, x} - \\frac{1}{2} \\, \\log\\left(\\frac{y\\left(x\\right)}{x}\\right)\\right)}</script></html>"
      ],
      "text/latex": [
       "$$\\newcommand{\\Bold}[1]{\\mathbf{#1}}x e^{\\left(-\\frac{1}{2}\\right)} = e^{\\left(-\\frac{y\\left(x\\right)}{2 \\, x} - \\frac{1}{2} \\, \\log\\left(\\frac{y\\left(x\\right)}{x}\\right)\\right)}$$"
      ],
      "text/plain": [
       "x*e^(-1/2) == e^(-1/2*y(x)/x - 1/2*log(y(x)/x))"
      ]
     },
     "metadata": {},
     "output_type": "display_data"
    },
    {
     "data": {
      "image/png": "[encoded data removed]",
      "text/plain": [
       "Graphics object consisting of 2 graphics primitives"
      ]
     },
     "execution_count": 14,
     "metadata": {},
     "output_type": "execute_result"
    }
   ],
   "source": [
    "x=var('x')\n",
    "y = function('y')(x)\n",
    "de = diff(y,x)==(y*(y-x))/(x*(y+x))\n",
    "sol=desolve(de,y,[1,1])\n",
    "show(sol)\n",
    "f(x,y)=(y*(y-x))/(x*(y+x))\n",
    "c1 = streamline_plot(f(x,y),(x,1,2),(y,0,1.2),start_points=[[1,1]])\n",
    "c2 = line2d(T,color='red',marker='o',markersize=3)\n",
    "c1+c2"
   ]
  },
  {
   "cell_type": "code",
   "execution_count": null,
   "metadata": {},
   "outputs": [],
   "source": []
  },
  {
   "cell_type": "code",
   "execution_count": null,
   "metadata": {},
   "outputs": [],
   "source": []
  }
 ],
 "metadata": {
  "kernelspec": {
   "display_name": "SageMath 9.3",
   "language": "sage",
   "name": "sagemath"
  },
  "language_info": {
   "codemirror_mode": {
    "name": "ipython",
    "version": 3
   },
   "file_extension": ".py",
   "mimetype": "text/x-python",
   "name": "python",
   "nbconvert_exporter": "python",
   "pygments_lexer": "ipython3",
   "version": "3.7.10"
  }
 },
 "nbformat": 4,
 "nbformat_minor": 4
}
